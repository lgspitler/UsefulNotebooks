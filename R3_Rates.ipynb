{
 "cells": [
  {
   "cell_type": "markdown",
   "metadata": {},
   "source": [
    "This notebook uses publishd rates and duration/center of R3's activity window to predict the values at higher frequencies. \n",
    "\n",
    "In input data sets are LOFAR, CHIME, and Apertif, as these are arguably the least biased. "
   ]
  },
  {
   "cell_type": "code",
   "execution_count": 1,
   "metadata": {},
   "outputs": [],
   "source": [
    "import numpy as np\n",
    "import matplotlib.pyplot as py"
   ]
  },
  {
   "cell_type": "code",
   "execution_count": 52,
   "metadata": {},
   "outputs": [
    {
     "name": "stdout",
     "output_type": "stream",
     "text": [
      "Fluence threshold at 1 ms: 0.091000 Jy ms\n",
      "Fluence threshold at 0.1 ms: 0.028777 Jy ms\n",
      "\n",
      "Rate of LOFAR bursts per hour (F > 50 Jy ms): 0.039\n",
      "Rate of LOFAR bursts per hour (F > 1 Jy ms): 13.789 \n",
      "\n",
      "Rate of CHIME bursts per hour (F > 1 Jy ms): 2.939\n",
      "\n",
      "Rate of APERTIF bursts per hour (F > 1 Jy ms): 0.080\n"
     ]
    }
   ],
   "source": [
    "#Some source values\n",
    "duty_cycle = 0.25\n",
    "gamma = -1.5    #Value from the CHIME/FRB R3 discovery Nature paper\n",
    "\n",
    "#Fluence threshold of \n",
    "# Eff C-band receiver at two different burst durations\n",
    "F_CX1ms = 7*26/np.sqrt(2*2e9)*np.sqrt(1e-3)/1e-3 #Jy ms\n",
    "F_CX100us = 7*26/np.sqrt(2*2e9)*np.sqrt(1e-4)/1e-3 #Jy ms\n",
    "\n",
    "#Effelsberg 7 beam fluence threshold\n",
    "F_SB = 0.2 #Jy ms\n",
    "\n",
    "print(\"Fluence threshold at 1 ms: %f Jy ms\" % F_CX1ms)\n",
    "print(\"Fluence threshold at 0.1 ms: %f Jy ms\\n\" % F_CX100us)\n",
    "\n",
    "#Rates and fluence threshold from Ines's paper\n",
    "R_LOFAR = 3.9e-2 #per hr (averged over full cycle)\n",
    "F_LOFAR = 50. #Jy ms\n",
    "\n",
    "R_APERTIF = 8e-2 #per hr (averaged over full cycle)\n",
    "F_APERTIF = 1 #Jy ms\n",
    "\n",
    "#Rate and fluence threshold from Ziggy's paper \n",
    "# (LOFAR rate factor of 3 larger than Ines' rate. Just pick one for calc.)\n",
    "#R_LOFAR = 0.32*5/16.3\n",
    "#F_LOFAR = 26 #Jy ms\n",
    "\n",
    "R_CHIME = 0.8*5.2/16.3 #per hr averaged over full cycle)\n",
    "F_CHIME = 5.1 #Jy ms\n",
    "\n",
    "# Apertif's threshold is 1 Jy ms, so I scale LOFAR and CHIME rates\n",
    "#  to that value for simplicity\n",
    "#Scaling the LOFAR rate to 1 Jy ms\n",
    "R_L1 = R_LOFAR*(F_APERTIF / F_LOFAR)**gamma\n",
    "#Scaling CHIME rate to 1 Jy ms\n",
    "R_C1 = R_CHIME*(F_APERTIF / F_CHIME)**gamma\n",
    "\n",
    "print(\"Rate of LOFAR bursts per hour (F > %d Jy ms): %2.3f\" % (F_LOFAR, R_LOFAR))\n",
    "print(\"Rate of LOFAR bursts per hour (F > 1 Jy ms): %2.3f \\n\" % R_L1)\n",
    "print(\"Rate of CHIME bursts per hour (F > 1 Jy ms): %2.3f\\n\" % R_C1)\n",
    "print(\"Rate of APERTIF bursts per hour (F > 1 Jy ms): %2.3f\" % R_APERTIF)"
   ]
  },
  {
   "cell_type": "code",
   "execution_count": 46,
   "metadata": {},
   "outputs": [
    {
     "name": "stdout",
     "output_type": "stream",
     "text": [
      "Estimated spectral dependence of rate: -1.4682014851417067\n"
     ]
    }
   ],
   "source": [
    "#Estimating spectral index \n",
    "# R_0 = R_1 (f0/f1)**(-alpha*gamma)\n",
    "\n",
    "freq_list = np.array([150., 600., 1370.])\n",
    "rate_list = np.array([R_L1, R_C1, R_APERTIF])  #Rates need to referenced to same fluence threshold\n",
    "\n",
    "alphgamma,b=np.polyfit(np.log10(freq_list), np.log10(rate_list), 1)\n",
    "alpha = -alphgamma/gamma\n",
    "\n",
    "rate_freq = lambda ff: 10**b*ff**alphgamma\n",
    "\n",
    "print(\"Estimated spectral dependence of rate:\", alpha)\n",
    "#print(b)"
   ]
  },
  {
   "cell_type": "code",
   "execution_count": 47,
   "metadata": {},
   "outputs": [
    {
     "name": "stdout",
     "output_type": "stream",
     "text": [
      "Estimated rate of bursts with CX receiver with W = 1ms:  0.22422250272741326\n",
      "Estimated rate of bursts with CX receiver with W = 100us:  1.2608957932123022\n",
      "Estimated rate of bursts with CX receiver @ 1 Jy ms:  0.015033062268220251\n"
     ]
    }
   ],
   "source": [
    "#Estimated rate of burst at 6 GHz\n",
    "#R_CX1ms = R_APERTIF*(6/1.37)**alpha*(F_CX1ms/F_APERTIF)**gamma\n",
    "#R_CX100us = R_APERTIF*(6/1.37)**alpha*(F_CX100us/F_APERTIF)**gamma\n",
    "\n",
    "R_CX1ms = rate_freq(6000.)*(F_CX1ms)**gamma\n",
    "R_CX100us = rate_freq(6000.)*(F_CX100us)**gamma\n",
    "\n",
    "R_1CX = rate_freq(4000)\n",
    "\n",
    "print(\"Estimated rate of bursts with CX receiver with W = 1ms: \", R_CX1ms)\n",
    "print(\"Estimated rate of bursts with CX receiver with W = 100us: \", R_CX100us)\n",
    "#print(\"Estimated number of hours for 1 burst:\", 1/R_CX)\n",
    "\n",
    "print(\"Estimated rate of bursts with CX receiver @ 1 Jy ms: \", R_1CX)\n",
    "\n",
    "#print(\"Estimated rate of bursts with CX recever in active window: \", R_CX/duty_cycle)\n",
    "#print(\"Estimated number of hours in active window for 1 burst:\", 1/R_CX*duty_cycle)\n",
    "\n",
    "#R_blah = R_LOFAR*(4/0.15)**-2.3\n",
    "#print(R_blah)"
   ]
  },
  {
   "cell_type": "code",
   "execution_count": 48,
   "metadata": {},
   "outputs": [
    {
     "name": "stdout",
     "output_type": "stream",
     "text": [
      "Estimated rate of bursts (per hr) with the 7-beam:  0.8944271909999157\n",
      "Estimated number of hours for 1 burst:  1.1180339887498951\n",
      "Estimated rate of bursts (per hr) with the 7-beam @ 1 Jyms:  0.08\n",
      "Estimated rate of bursts (per hr) in active window:  3.577708763999663\n",
      "Estimated number of hours for 1 burst:  0.2795084971874738\n"
     ]
    }
   ],
   "source": [
    "#Estimated rate of bursts at 1.4 GHz with the 7-beam\n",
    "R_SB = R_APERTIF*(F_SB/F_APERTIF)**gamma\n",
    "R_1SB = R_APERTIF\n",
    "R_o1SB = R_1SB*np.sqrt(0.1)**gamma\n",
    "\n",
    "print(\"Estimated rate of bursts (per hr) with the 7-beam: \", R_SB)\n",
    "print(\"Estimated number of hours for 1 burst: \", 1/R_SB)\n",
    "\n",
    "print(\"Estimated rate of bursts (per hr) with the 7-beam @ 1 Jyms: \", R_1SB)\n",
    "\n",
    "print(\"Estimated rate of bursts (per hr) in active window: \", R_SB/duty_cycle)\n",
    "print(\"Estimated number of hours for 1 burst: \", 1/R_SB*duty_cycle)"
   ]
  },
  {
   "cell_type": "code",
   "execution_count": 53,
   "metadata": {},
   "outputs": [
    {
     "name": "stdout",
     "output_type": "stream",
     "text": [
      "Estimated rate of bursts at CHIME:  0.2502933079970989\n",
      "Measured rate of bursts at CHIME: 0.25521472392638034\n"
     ]
    }
   ],
   "source": [
    "#Estimating CHIME rates\n",
    "# This is just do double check that my results are self-consistent\n",
    "R_eC = R_APERTIF*(F_CHIME/F_APERTIF)**gamma*(0.6/1.37)**(alpha*gamma)\n",
    "R_eC = R_LOFAR*(F_CHIME/F_LOFAR)**gamma*(0.6/0.15)**(alpha*gamma)\n",
    "#R_eC = R_L1*(0.6/0.15)**alpha*F_CHIME**gamma\n",
    "\n",
    "R_eC = R_C1*rate_freq(600)*(F_CHIME)**gamma\n",
    "\n",
    "print(\"Estimated rate of bursts at CHIME: \", R_eC)\n",
    "print(\"Measured rate of bursts at CHIME:\", R_CHIME)"
   ]
  },
  {
   "cell_type": "code",
   "execution_count": 50,
   "metadata": {},
   "outputs": [
    {
     "data": {
      "text/plain": [
       "Text(0, 0.5, 'Rate (per hr)')"
      ]
     },
     "execution_count": 50,
     "metadata": {},
     "output_type": "execute_result"
    },
    {
     "data": {
      "image/png": "[encoded data removed]",
      "text/plain": [
       "<Figure size 432x288 with 1 Axes>"
      ]
     },
     "metadata": {
      "needs_background": "light"
     },
     "output_type": "display_data"
    }
   ],
   "source": [
    "# Now make a complicated plot\n",
    "# \"Obs\" values are measured or predicted values for telescope used as input \n",
    "# \"Est\" values are predicted for a \"new\" telescope based entirely on the modeling\n",
    "freq_list = np.array([150., 600., 1370., 1360., 6000.])\n",
    "freq_obs = np.array([150., 600., 1370.])\n",
    "freq_sc = np.array([1360, 6000])\n",
    "\n",
    "rate_1Jyms_obs = np.array([R_L1, R_C1, R_APERTIF])\n",
    "rate_1Jyms_sc = np.array([R_1SB, R_1CX])\n",
    "rate_1ms_sc = np.array([R_CX1ms])\n",
    "rate_100us_sc = np.array([R_CX100us])\n",
    "rate_obs = np.array([R_LOFAR, R_CHIME, R_APERTIF])\n",
    "#rate_sc = np.array([R_SB, R_CX])\n",
    "\n",
    "fdum=np.arange(150,6500,1)\n",
    "#rate_scaled = 10**b*(fdum)**alpha\n",
    "\n",
    "py.plot(freq_obs, rate_1Jyms_obs, 'ko', ms=10, label='Obs @ 1 Jy ms')\n",
    "py.plot(freq_obs, rate_obs, 'ro', label='Obs @ true')\n",
    "py.plot(freq_sc, rate_1Jyms_sc, 'k+', ms=15, label='Est @ 1 Jy ms')\n",
    "py.plot(freq_sc[1], rate_1ms_sc, 'b+', ms=15, label='Est @ 1 ms')\n",
    "py.plot(freq_sc[1], rate_100us_sc, 'y+', ms=15, label='Est @ 0.1 ms')\n",
    "#py.plot(freq_sc, rate_sc, 'r+', ms=15, label='Est @ true')\n",
    "\n",
    "py.plot(fdum, rate_freq(fdum), 'y-')\n",
    "py.xscale('log')\n",
    "py.yscale('log')\n",
    "py.xlim(1e2, 1e4)\n",
    "py.legend()\n",
    "py.grid()\n",
    "py.xlabel('Freq (MHz)')\n",
    "py.ylabel('Rate (per hr)')"
   ]
  },
  {
   "cell_type": "code",
   "execution_count": 51,
   "metadata": {},
   "outputs": [
    {
     "name": "stdout",
     "output_type": "stream",
     "text": [
      "Power law index =  -0.16901621397968947\n",
      "Phase at 4 GHz: 0.37\n",
      "Phase at 6 GHz: 0.35\n",
      "Phase at 8 GHz: 0.33\n",
      "\n",
      "Width at 4 GHz = 0.42 days (phase 0.03; hours = 10.14)\n",
      "Width at 6 GHz = 0.29 days (phase 0.02; hours = 7.06)\n",
      "Width at 8 GHz = 0.23 days (phase 0.01; hours = 5.46)\n",
      "\n",
      "Edges in phase\n",
      "Edges at 4 GHz: 0.36 0.39\n",
      "Edges at 6 GHz: 0.34 0.36\n",
      "Edges at 8 GHz: 0.32 0.34\n"
     ]
    }
   ],
   "source": [
    "#Now estimate left and right edges of the active window at higher frequencies \n",
    "\n",
    "Pa=16.33  #activity period in days\n",
    "freq = np.array([150, 600, 1370])   #Center freq. of windows\n",
    "fdum = np.logspace(2,4,25)          #Dummy freq. array for plotting later\n",
    "\n",
    "#Shift of the center in days relative to CHIME's center\n",
    "sh_days = np.array([2.6, 0, -0.7])   \n",
    "sh_phase = sh_days/Pa+0.5            #Convert to activity phase\n",
    "\n",
    "#Width of the active window in days\n",
    "fw_days=np.array([0.8*2.7, 2.3, 1.1])   \n",
    "hw_phase=fw_days/(2*Pa)            #Convert to activity phase\n",
    "\n",
    "#Model shift in window vs. freq. as a power law\n",
    "aa,bb=np.polyfit(np.log10(freq), np.log10(sh_phase), 1)\n",
    "print(\"Power law index = \", aa)\n",
    "\n",
    "#Predict the window center for bottom, center, and top of CX band\n",
    "p4=10**bb*4000**aa\n",
    "p6=10**bb*6000**aa\n",
    "p8=10**bb*8000**aa\n",
    "\n",
    "print(\"Phase at 4 GHz: %1.2f\" % p4 )\n",
    "print(\"Phase at 6 GHz: %1.2f\" % p6 )\n",
    "print(\"Phase at 8 GHz: %1.2f\" % p8 )\n",
    "#al,bl=np.polyfit(freq, shift, 1)\n",
    "#print(\"Linear slope = \", al)\n",
    "\n",
    "#Model width variation with power law\n",
    "#Note, I'm only using CHIME and Apertif since the LOFAR window is not well sampled\n",
    "#  Take this with a large grain of salt since there are only two points\n",
    "si=1\n",
    "cc,dd=np.polyfit(np.log10(freq[si:]), np.log10(fw_days[si:]), 1)\n",
    "\n",
    "#Calc activity window widths\n",
    "w2=10**dd*2000**cc\n",
    "w4=10**dd*4000**cc\n",
    "w6=10**dd*6000**cc\n",
    "w8=10**dd*8000**cc\n",
    "\n",
    "print(\"\")\n",
    "#print(\"Width at 2 GHz = %1.2f days = %1.2f\" % (w2, w2/Pa))\n",
    "print(\"Width at 4 GHz = %1.2f days (phase %1.2f; hours = %1.2f)\" % (w4, w4/Pa, 24*w4))\n",
    "print(\"Width at 6 GHz = %1.2f days (phase %1.2f; hours = %1.2f)\" % (w6, w6/Pa, 24*w6))\n",
    "print(\"Width at 8 GHz = %1.2f days (phase %1.2f; hours = %1.2f)\" % (w8, w8/Pa, 24*w8))\n",
    "\n",
    "print(\"\")\n",
    "print(\"Edges in phase\")\n",
    "print(\"Edges at 4 GHz: %1.2f %1.2f\" % (p4 - w4/(2*Pa), p4 + w4/(2*Pa)))\n",
    "print(\"Edges at 6 GHz: %1.2f %1.2f\" % (p6 - w6/(2*Pa), p6 + w6/(2*Pa)))\n",
    "print(\"Edges at 8 GHz: %1.2f %1.2f\" % (p8 - w6/(2*Pa), p8 + w8/(2*Pa)))"
   ]
  },
  {
   "cell_type": "code",
   "execution_count": 57,
   "metadata": {},
   "outputs": [
    {
     "data": {
      "text/plain": [
       "(0, 8200)"
      ]
     },
     "execution_count": 57,
     "metadata": {},
     "output_type": "execute_result"
    },
    {
     "data": {
      "image/png": "[encoded data removed]",
      "text/plain": [
       "<Figure size 432x288 with 1 Axes>"
      ]
     },
     "metadata": {
      "needs_background": "light"
     },
     "output_type": "display_data"
    }
   ],
   "source": [
    "#Plot the windows based on calculations in previous cell.\n",
    "#Plot width of window vs observing freq. \n",
    "py.plot(10**bb*fdum**aa, fdum, 'r-')\n",
    "py.errorbar(sh_phase, freq, xerr=hw_phase, fmt='o', color='k')\n",
    "py.errorbar([p4,p6,p8], [4000,6000,8000], xerr=[w4/(2*Pa), w6/(2*Pa), w8/(2*Pa)], fmt='o', color='b')\n",
    "py.axhspan(4e3,8e3,color='#F1F0ED')\n",
    "py.grid()\n",
    "py.xlabel('Activity phase')\n",
    "py.ylabel('Obs. Freq (MHz)')\n",
    "py.xlim((0.25,0.75))\n",
    "py.ylim((0,8200))\n",
    "\n",
    "#Plot width\n",
    "#py.figure()\n",
    "#py.plot(freq[si:], fw_days[si:], 'bo')\n",
    "#py.plot(fdum, 10**dd*fdum**cc, 'k-')\n",
    "#py.plot([4000,8000], [w4,w8], 'ro')\n",
    "#py.grid()\n",
    "#py.ylabel('Window duration (days)')\n",
    "#py.xlabel('Freq (MHz)')\n",
    "#py.yscale('log')\n",
    "#py.xscale('log')"
   ]
  }
 ],
 "metadata": {
  "kernelspec": {
   "display_name": "Python 3",
   "language": "python",
   "name": "python3"
  },
  "language_info": {
   "codemirror_mode": {
    "name": "ipython",
    "version": 3
   },
   "file_extension": ".py",
   "mimetype": "text/x-python",
   "name": "python",
   "nbconvert_exporter": "python",
   "pygments_lexer": "ipython3",
   "version": "3.7.4"
  }
 },
 "nbformat": 4,
 "nbformat_minor": 2
}
